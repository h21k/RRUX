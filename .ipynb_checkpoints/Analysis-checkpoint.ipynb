{
 "cells": [
  {
   "cell_type": "markdown",
   "metadata": {},
   "source": [
    "#### UXPaper Analysis\n",
    "Analysis starts off with standard descriptives and general test for significance. Then goes into detail on mixed effects models and the discussion surrounding them. First setting up the R environment:"
   ]
  },
  {
   "execution_count": 1,
   "metadata": {},
   "outputs": [
    {
     "data": {
      "text/html": [
       "3"
      ],
      "text/latex": [
       "3"
      ],
      "text/markdown": [
       "3"
      ],
      "text/plain": [
       "[1] 3"
      ]
     },
     "metadata": {},
     "output_type": "display_data"
    }
   ],
   "source": [
    "#set specific working directory\n",
    "#setwd(\"~/Desktop/R_STUFF\")\n",
    "\n",
    "# load performance improvement libraries & enable just in time compiler\n",
    "library(compiler)\n",
    "enableJIT(1)\n",
    "\n",
    "#some environmental variables (decimals)\n",
    "options=7"
   ]
  },
  {
   "cell_type": "code",
   "execution_count": 2,
   "metadata": {},
   "outputs": [
    {
     "name": "stderr",
     "output_type": "stream",
     "text": [
      "Loading required package: rcompanion\n",
      "Loading required package: gdata\n",
      "gdata: read.xls support for 'XLS' (Excel 97-2004) files ENABLED.\n",
      "\n",
      "gdata: read.xls support for 'XLSX' (Excel 2007+) files ENABLED.\n",
      "\n",
      "Attaching package: ‘gdata’\n",
      "\n",
      "The following object is masked from ‘package:stats’:\n",
      "\n",
      "    nobs\n",
      "\n",
      "The following object is masked from ‘package:utils’:\n",
      "\n",
      "    object.size\n",
      "\n",
      "The following object is masked from ‘package:base’:\n",
      "\n",
      "    startsWith\n",
      "\n",
      "Loading required package: car\n",
      "Warning message:\n",
      "“package ‘car’ was built under R version 3.4.1”Loading required package: lsr\n",
      "Loading required package: sft\n",
      "Warning message:\n",
      "“package ‘sft’ was built under R version 3.4.3”Loading required package: fda\n",
      "Warning message:\n",
      "“package ‘fda’ was built under R version 3.4.1”Loading required package: splines\n",
      "Loading required package: Matrix\n",
      "\n",
      "Attaching package: ‘fda’\n",
      "\n",
      "The following object is masked from ‘package:graphics’:\n",
      "\n",
      "    matplot\n",
      "\n",
      "Loading required package: SuppDists\n",
      "Loading required package: nlme\n",
      "Loading required package: lme4\n",
      "\n",
      "Attaching package: ‘lme4’\n",
      "\n",
      "The following object is masked from ‘package:nlme’:\n",
      "\n",
      "    lmList\n",
      "\n",
      "Loading required package: bibtex\n",
      "Warning message:\n",
      "“package ‘bibtex’ was built under R version 3.4.1”Loading required package: psych\n",
      "\n",
      "Attaching package: ‘psych’\n",
      "\n",
      "The following object is masked from ‘package:car’:\n",
      "\n",
      "    logit\n",
      "\n",
      "Loading required package: likert\n",
      "Loading required package: ggplot2\n",
      "\n",
      "Attaching package: ‘ggplot2’\n",
      "\n",
      "The following objects are masked from ‘package:psych’:\n",
      "\n",
      "    %+%, alpha\n",
      "\n",
      "Loading required package: xtable\n",
      "\n",
      "Attaching package: ‘likert’\n",
      "\n",
      "The following object is masked from ‘package:car’:\n",
      "\n",
      "    recode\n",
      "\n",
      "Loading required package: tidyverse\n",
      "Loading tidyverse: tibble\n",
      "Loading tidyverse: tidyr\n",
      "Loading tidyverse: readr\n",
      "Loading tidyverse: purrr\n",
      "Loading tidyverse: dplyr\n",
      "Warning message:\n",
      "“package ‘tibble’ was built under R version 3.4.3”Warning message:\n",
      "“package ‘tidyr’ was built under R version 3.4.1”Warning message:\n",
      "“package ‘purrr’ was built under R version 3.4.2”Warning message:\n",
      "“package ‘dplyr’ was built under R version 3.4.2”Conflicts with tidy packages ---------------------------------------------------\n",
      "%+%():      ggplot2, psych\n",
      "alpha():    ggplot2, psych\n",
      "collapse(): dplyr, nlme\n",
      "combine():  dplyr, gdata\n",
      "expand():   tidyr, Matrix\n",
      "filter():   dplyr, stats\n",
      "first():    dplyr, gdata\n",
      "keep():     purrr, gdata\n",
      "lag():      dplyr, stats\n",
      "last():     dplyr, gdata\n",
      "recode():   dplyr, likert, car\n",
      "some():     purrr, car\n"
     ]
    },
    {
     "ename": "ERROR",
     "evalue": "Error in FUN(X[[i]], ...): unused argument (verbose = FALSE)\n",
     "output_type": "error",
     "traceback": [
      "Error in FUN(X[[i]], ...): unused argument (verbose = FALSE)\nTraceback:\n",
      "1. lapply(requiredPackages, require, character.only = TRUE, verbose = FALSE)"
     ]
    }
   ],
   "source": [
    "#check if required packages are there - if not the script will install them!\n",
    "requiredPackages = c('rcompanion','gdata','compiler','car','lsr','sft','nlme', 'lme4', 'bibtex', 'psych', 'likert', 'ggplot2', 'tidyverse')\n",
    "for(p in requiredPackages){\n",
    "  if(!require(p,character.only = TRUE)) install.packages(p)\n",
    "  library(p,character.only = TRUE, verbose=FALSE)\n",
    "}\n",
    "#load all the libraries    \n",
    "lapply(requiredPackages, require, character.only = TRUE, verbose=FALSE)"
   ]
  },
  {
   "cell_type": "code",
   "execution_count": 3,
   "metadata": {
    "collapsed": true
   },
   "outputs": [],
   "source": [
    "# Importing the data \n",
    "data <- read.xls(\"TimeAnalysis2_1.xlsx\", verbose=FALSE, na.strings=c(\"NA\"))"
   ]
  },
  {
   "cell_type": "code",
   "execution_count": 4,
   "metadata": {},
   "outputs": [
    {
     "data": {
      "text/html": [
       "<table>\n",
       "<thead><tr><th scope=col>ParticipantNo</th><th scope=col>ID</th><th scope=col>PDF</th><th scope=col>Order</th><th scope=col>Time</th><th scope=col>Condition</th><th scope=col>CExperience</th><th scope=col>Tasks</th><th scope=col>Error</th></tr></thead>\n",
       "<tbody>\n",
       "\t<tr><td>1                    </td><td>-JjAzwjQakZk-3kIbeMfw</td><td>U2PXr4iMBf8Kt-leQI8Ii</td><td>1                    </td><td>435                  </td><td>1                    </td><td>1                    </td><td>9                    </td><td>0                    </td></tr>\n",
       "\t<tr><td>1                    </td><td>-JjAzwjQakZk-3kIbeMfw</td><td>4gIe5sni3WJJCzNglSdo8</td><td>2                    </td><td>582                  </td><td>0                    </td><td>1                    </td><td>9                    </td><td>0                    </td></tr>\n",
       "\t<tr><td>1                    </td><td>-JjAzwjQakZk-3kIbeMfw</td><td>iHbGgWtrKNfksdoj9Hxv9</td><td>3                    </td><td>297                  </td><td>1                    </td><td>1                    </td><td>9                    </td><td>0                    </td></tr>\n",
       "\t<tr><td>1                    </td><td>-JjAzwjQakZk-3kIbeMfw</td><td>cnDXl97I_WoVUqyIH0HbQ</td><td>4                    </td><td>610                  </td><td>0                    </td><td>1                    </td><td>9                    </td><td>0                    </td></tr>\n",
       "\t<tr><td>2                    </td><td>hNQKTiKtHSY_BmxLyZb9Q</td><td>XOCbiBddVQK3BYy1Ox4lI</td><td>1                    </td><td>306                  </td><td>1                    </td><td>1                    </td><td>8                    </td><td>0                    </td></tr>\n",
       "\t<tr><td>2                    </td><td>hNQKTiKtHSY_BmxLyZb9Q</td><td>oOAy7INgRLumTV3vZWtVM</td><td>2                    </td><td>127                  </td><td>1                    </td><td>1                    </td><td>8                    </td><td>0                    </td></tr>\n",
       "</tbody>\n",
       "</table>\n"
      ],
      "text/latex": [
       "\\begin{tabular}{r|lllllllll}\n",
       " ParticipantNo & ID & PDF & Order & Time & Condition & CExperience & Tasks & Error\\\\\n",
       "\\hline\n",
       "\t 1                     & -JjAzwjQakZk-3kIbeMfw & U2PXr4iMBf8Kt-leQI8Ii & 1                     & 435                   & 1                     & 1                     & 9                     & 0                    \\\\\n",
       "\t 1                     & -JjAzwjQakZk-3kIbeMfw & 4gIe5sni3WJJCzNglSdo8 & 2                     & 582                   & 0                     & 1                     & 9                     & 0                    \\\\\n",
       "\t 1                     & -JjAzwjQakZk-3kIbeMfw & iHbGgWtrKNfksdoj9Hxv9 & 3                     & 297                   & 1                     & 1                     & 9                     & 0                    \\\\\n",
       "\t 1                       & -JjAzwjQakZk-3kIbeMfw   & cnDXl97I\\_WoVUqyIH0HbQ & 4                       & 610                     & 0                       & 1                       & 9                       & 0                      \\\\\n",
       "\t 2                       & hNQKTiKtHSY\\_BmxLyZb9Q & XOCbiBddVQK3BYy1Ox4lI   & 1                       & 306                     & 1                       & 1                       & 8                       & 0                      \\\\\n",
       "\t 2                       & hNQKTiKtHSY\\_BmxLyZb9Q & oOAy7INgRLumTV3vZWtVM   & 2                       & 127                     & 1                       & 1                       & 8                       & 0                      \\\\\n",
       "\\end{tabular}\n"
      ],
      "text/markdown": [
       "\n",
       "ParticipantNo | ID | PDF | Order | Time | Condition | CExperience | Tasks | Error | \n",
       "|---|---|---|---|---|---|\n",
       "| 1                     | -JjAzwjQakZk-3kIbeMfw | U2PXr4iMBf8Kt-leQI8Ii | 1                     | 435                   | 1                     | 1                     | 9                     | 0                     | \n",
       "| 1                     | -JjAzwjQakZk-3kIbeMfw | 4gIe5sni3WJJCzNglSdo8 | 2                     | 582                   | 0                     | 1                     | 9                     | 0                     | \n",
       "| 1                     | -JjAzwjQakZk-3kIbeMfw | iHbGgWtrKNfksdoj9Hxv9 | 3                     | 297                   | 1                     | 1                     | 9                     | 0                     | \n",
       "| 1                     | -JjAzwjQakZk-3kIbeMfw | cnDXl97I_WoVUqyIH0HbQ | 4                     | 610                   | 0                     | 1                     | 9                     | 0                     | \n",
       "| 2                     | hNQKTiKtHSY_BmxLyZb9Q | XOCbiBddVQK3BYy1Ox4lI | 1                     | 306                   | 1                     | 1                     | 8                     | 0                     | \n",
       "| 2                     | hNQKTiKtHSY_BmxLyZb9Q | oOAy7INgRLumTV3vZWtVM | 2                     | 127                   | 1                     | 1                     | 8                     | 0                     | \n",
       "\n",
       "\n"
      ],
      "text/plain": [
       "  ParticipantNo ID                    PDF                   Order Time\n",
       "1 1             -JjAzwjQakZk-3kIbeMfw U2PXr4iMBf8Kt-leQI8Ii 1     435 \n",
       "2 1             -JjAzwjQakZk-3kIbeMfw 4gIe5sni3WJJCzNglSdo8 2     582 \n",
       "3 1             -JjAzwjQakZk-3kIbeMfw iHbGgWtrKNfksdoj9Hxv9 3     297 \n",
       "4 1             -JjAzwjQakZk-3kIbeMfw cnDXl97I_WoVUqyIH0HbQ 4     610 \n",
       "5 2             hNQKTiKtHSY_BmxLyZb9Q XOCbiBddVQK3BYy1Ox4lI 1     306 \n",
       "6 2             hNQKTiKtHSY_BmxLyZb9Q oOAy7INgRLumTV3vZWtVM 2     127 \n",
       "  Condition CExperience Tasks Error\n",
       "1 1         1           9     0    \n",
       "2 0         1           9     0    \n",
       "3 1         1           9     0    \n",
       "4 0         1           9     0    \n",
       "5 1         1           8     0    \n",
       "6 1         1           8     0    "
      ]
     },
     "metadata": {},
     "output_type": "display_data"
    }
   ],
   "source": [
    "# quick check on the data\n",
    "head(data)"
   ]
  },
  {
   "cell_type": "markdown",
   "metadata": {},
   "source": [
    "#### Descriptives"
   ]
  },
  {
   "cell_type": "code",
   "execution_count": null,
   "metadata": {
    "collapsed": true
   },
   "outputs": [],
   "source": [
    "# quick note: we had 41 participants as we were only interested in people who had experience\n",
    "# in the Chocrane Risk of Bias Tool and Systematic review experience we removed the ones that\n",
    "# did not have experience (41-3 people = 38 participants in total)\n",
    "\n"
   ]
  }
 ],
 "metadata": {
  "kernelspec": {
   "display_name": "R",
   "language": "R",
   "name": "ir"
  },
  "language_info": {
   "codemirror_mode": "r",
   "file_extension": ".r",
   "mimetype": "text/x-r-source",
   "name": "R",
   "pygments_lexer": "r",
   "version": "3.4.0"
  }
 },
 "nbformat": 4,
 "nbformat_minor": 2
}
