{
 "cells": [
  {
   "cell_type": "markdown",
   "metadata": {},
   "source": [
    "#### Some Descriptives on the Agreements / Annotations data"
   ]
  },
  {
   "cell_type": "code",
   "execution_count": 1,
   "metadata": {},
   "outputs": [
    {
     "data": {
      "text/html": [
       "3"
      ],
      "text/latex": [
       "3"
      ],
      "text/markdown": [
       "3"
      ],
      "text/plain": [
       "[1] 3"
      ]
     },
     "metadata": {},
     "output_type": "display_data"
    }
   ],
   "source": [
    "#set specific working directory#set sp \n",
    "#setwd(\"~/Desktop/R_STUFF\")\n",
    "\n",
    "# load performance improvement libraries & enable just in time compiler\n",
    "library(compiler)\n",
    "enableJIT(1)\n",
    "\n",
    "#some environmental variables (decimals)\n",
    "options=7"
   ]
  },
  {
   "cell_type": "code",
   "execution_count": 3,
   "metadata": {},
   "outputs": [
    {
     "data": {
      "text/html": [
       "<ol>\n",
       "\t<li>TRUE</li>\n",
       "\t<li>TRUE</li>\n",
       "\t<li>TRUE</li>\n",
       "\t<li>TRUE</li>\n",
       "\t<li>TRUE</li>\n",
       "\t<li>TRUE</li>\n",
       "\t<li>TRUE</li>\n",
       "\t<li>TRUE</li>\n",
       "\t<li>TRUE</li>\n",
       "\t<li>TRUE</li>\n",
       "\t<li>TRUE</li>\n",
       "\t<li>TRUE</li>\n",
       "</ol>\n"
      ],
      "text/latex": [
       "\\begin{enumerate}\n",
       "\\item TRUE\n",
       "\\item TRUE\n",
       "\\item TRUE\n",
       "\\item TRUE\n",
       "\\item TRUE\n",
       "\\item TRUE\n",
       "\\item TRUE\n",
       "\\item TRUE\n",
       "\\item TRUE\n",
       "\\item TRUE\n",
       "\\item TRUE\n",
       "\\item TRUE\n",
       "\\end{enumerate}\n"
      ],
      "text/markdown": [
       "1. TRUE\n",
       "2. TRUE\n",
       "3. TRUE\n",
       "4. TRUE\n",
       "5. TRUE\n",
       "6. TRUE\n",
       "7. TRUE\n",
       "8. TRUE\n",
       "9. TRUE\n",
       "10. TRUE\n",
       "11. TRUE\n",
       "12. TRUE\n",
       "\n",
       "\n"
      ],
      "text/plain": [
       "[[1]]\n",
       "[1] TRUE\n",
       "\n",
       "[[2]]\n",
       "[1] TRUE\n",
       "\n",
       "[[3]]\n",
       "[1] TRUE\n",
       "\n",
       "[[4]]\n",
       "[1] TRUE\n",
       "\n",
       "[[5]]\n",
       "[1] TRUE\n",
       "\n",
       "[[6]]\n",
       "[1] TRUE\n",
       "\n",
       "[[7]]\n",
       "[1] TRUE\n",
       "\n",
       "[[8]]\n",
       "[1] TRUE\n",
       "\n",
       "[[9]]\n",
       "[1] TRUE\n",
       "\n",
       "[[10]]\n",
       "[1] TRUE\n",
       "\n",
       "[[11]]\n",
       "[1] TRUE\n",
       "\n",
       "[[12]]\n",
       "[1] TRUE\n"
      ]
     },
     "metadata": {},
     "output_type": "display_data"
    }
   ],
   "source": [
    "#check if required packages are there - if not the script will install them!\n",
    "requiredPackages = c('rcompanion','gdata','compiler','car','lsr','sft','nlme', 'lme4', 'psych', 'likert', 'ggplot2', 'tidyverse')\n",
    "for(p in requiredPackages){\n",
    "  if(!require(p,character.only = TRUE)) install.packages(p);\n",
    "  library(p,character.only = TRUE);\n",
    "}\n",
    "#load all the libraries    \n",
    "lapply(requiredPackages, require, character.only = TRUE);"
   ]
  },
  {
   "cell_type": "code",
   "execution_count": 11,
   "metadata": {
    "collapsed": true
   },
   "outputs": [],
   "source": [
    "# Importing the data \n",
    "data <- read.xls(\"TimeAnalysis2_1.xlsx\", verbose=FALSE, na.strings=c(\"NA\"))"
   ]
  },
  {
   "cell_type": "code",
   "execution_count": 12,
   "metadata": {},
   "outputs": [
    {
     "data": {
      "text/html": [
       "<table>\n",
       "<thead><tr><th scope=col>ParticipantNo</th><th scope=col>ID</th><th scope=col>PDF</th><th scope=col>Order</th><th scope=col>Time</th><th scope=col>Condition</th><th scope=col>CExperience</th><th scope=col>Tasks</th><th scope=col>NReviews</th><th scope=col>AMeanNReviews</th><th scope=col>⋯</th><th scope=col>AL1</th><th scope=col>AC2</th><th scope=col>AL2</th><th scope=col>AC3</th><th scope=col>AL3</th><th scope=col>AC4</th><th scope=col>AL4</th><th scope=col>Comments</th><th scope=col>TotalAdded</th><th scope=col>TotalDeleted</th></tr></thead>\n",
       "<tbody>\n",
       "\t<tr><td>1                                         </td><td>-JjAzwjQakZk-3kIbeMfw                     </td><td>U2PXr4iMBf8Kt-leQI8Ii                     </td><td>1                                         </td><td>435                                       </td><td>1                                         </td><td>1                                         </td><td>9                                         </td><td>10+                                       </td><td>12.5                                      </td><td>⋯                                         </td><td>Yes                                       </td><td>Yes                                       </td><td>Yes                                       </td><td>Yes                                       </td><td>Yes                                       </td><td>Yes                                       </td><td>Yes                                       </td><td>C1:2added, C2:2added,C3:3added,C4:1added  </td><td>8                                         </td><td>0                                         </td></tr>\n",
       "\t<tr><td>1                                         </td><td>-JjAzwjQakZk-3kIbeMfw                     </td><td>4gIe5sni3WJJCzNglSdo8                     </td><td>2                                         </td><td>582                                       </td><td>0                                         </td><td>1                                         </td><td>9                                         </td><td>10+                                       </td><td>12.5                                      </td><td>⋯                                         </td><td>No                                        </td><td>Yes                                       </td><td>No                                        </td><td>Yes                                       </td><td>No                                        </td><td>Yes                                       </td><td>No                                        </td><td>C1:1added, C2:1added, C3:1added, C4:2added</td><td>5                                         </td><td>0                                         </td></tr>\n",
       "\t<tr><td>1                                         </td><td>-JjAzwjQakZk-3kIbeMfw                     </td><td>iHbGgWtrKNfksdoj9Hxv9                     </td><td>3                                         </td><td>297                                       </td><td>1                                         </td><td>1                                         </td><td>9                                         </td><td>10+                                       </td><td>12.5                                      </td><td>⋯                                         </td><td>Yes                                       </td><td>No                                        </td><td>Yes                                       </td><td>Yes                                       </td><td>Yes                                       </td><td>Yes                                       </td><td>Yes                                       </td><td>C1:1added, C2:1added, C4:1added           </td><td>3                                         </td><td>0                                         </td></tr>\n",
       "\t<tr><td>1                                         </td><td>-JjAzwjQakZk-3kIbeMfw                     </td><td>cnDXl97I_WoVUqyIH0HbQ                     </td><td>4                                         </td><td>610                                       </td><td>0                                         </td><td>1                                         </td><td>9                                         </td><td>10+                                       </td><td>12.5                                      </td><td>⋯                                         </td><td>No                                        </td><td>No                                        </td><td>No                                        </td><td>No                                        </td><td>No                                        </td><td>Yes                                       </td><td>No                                        </td><td>C1:1added, C2:0added, C3:0added           </td><td>1                                         </td><td>0                                         </td></tr>\n",
       "\t<tr><td>2                                         </td><td>hNQKTiKtHSY_BmxLyZb9Q                     </td><td>XOCbiBddVQK3BYy1Ox4lI                     </td><td>1                                         </td><td>306                                       </td><td>1                                         </td><td>1                                         </td><td>8                                         </td><td>5to10                                     </td><td> 7.5                                      </td><td>⋯                                         </td><td>Yes                                       </td><td>No                                        </td><td>Yes                                       </td><td>No                                        </td><td>Yes                                       </td><td>No                                        </td><td>Yes                                       </td><td>C1:1added                                 </td><td>1                                         </td><td>0                                         </td></tr>\n",
       "\t<tr><td>2                                         </td><td>hNQKTiKtHSY_BmxLyZb9Q                     </td><td>oOAy7INgRLumTV3vZWtVM                     </td><td>2                                         </td><td>127                                       </td><td>1                                         </td><td>1                                         </td><td>8                                         </td><td>5to10                                     </td><td> 7.5                                      </td><td>⋯                                         </td><td>Yes                                       </td><td>No                                        </td><td>Yes                                       </td><td>No                                        </td><td>Yes                                       </td><td>No                                        </td><td>Yes                                       </td><td>                                          </td><td>0                                         </td><td>0                                         </td></tr>\n",
       "</tbody>\n",
       "</table>\n"
      ],
      "text/latex": [
       "\\begin{tabular}{r|lllllllllllllllllllllllllllllll}\n",
       " ParticipantNo & ID & PDF & Order & Time & Condition & CExperience & Tasks & NReviews & AMeanNReviews & ⋯ & AL1 & AC2 & AL2 & AC3 & AL3 & AC4 & AL4 & Comments & TotalAdded & TotalDeleted\\\\\n",
       "\\hline\n",
       "\t 1                                          & -JjAzwjQakZk-3kIbeMfw                      & U2PXr4iMBf8Kt-leQI8Ii                      & 1                                          & 435                                        & 1                                          & 1                                          & 9                                          & 10+                                        & 12.5                                       & ⋯                                          & Yes                                        & Yes                                        & Yes                                        & Yes                                        & Yes                                        & Yes                                        & Yes                                        & C1:2added, C2:2added,C3:3added,C4:1added   & 8                                          & 0                                         \\\\\n",
       "\t 1                                          & -JjAzwjQakZk-3kIbeMfw                      & 4gIe5sni3WJJCzNglSdo8                      & 2                                          & 582                                        & 0                                          & 1                                          & 9                                          & 10+                                        & 12.5                                       & ⋯                                          & No                                         & Yes                                        & No                                         & Yes                                        & No                                         & Yes                                        & No                                         & C1:1added, C2:1added, C3:1added, C4:2added & 5                                          & 0                                         \\\\\n",
       "\t 1                                          & -JjAzwjQakZk-3kIbeMfw                      & iHbGgWtrKNfksdoj9Hxv9                      & 3                                          & 297                                        & 1                                          & 1                                          & 9                                          & 10+                                        & 12.5                                       & ⋯                                          & Yes                                        & No                                         & Yes                                        & Yes                                        & Yes                                        & Yes                                        & Yes                                        & C1:1added, C2:1added, C4:1added            & 3                                          & 0                                         \\\\\n",
       "\t 1                                          & -JjAzwjQakZk-3kIbeMfw                      & cnDXl97I\\_WoVUqyIH0HbQ                    & 4                                          & 610                                        & 0                                          & 1                                          & 9                                          & 10+                                        & 12.5                                       & ⋯                                          & No                                         & No                                         & No                                         & No                                         & No                                         & Yes                                        & No                                         & C1:1added, C2:0added, C3:0added            & 1                                          & 0                                         \\\\\n",
       "\t 2                                          & hNQKTiKtHSY\\_BmxLyZb9Q                    & XOCbiBddVQK3BYy1Ox4lI                      & 1                                          & 306                                        & 1                                          & 1                                          & 8                                          & 5to10                                      &  7.5                                       & ⋯                                          & Yes                                        & No                                         & Yes                                        & No                                         & Yes                                        & No                                         & Yes                                        & C1:1added                                  & 1                                          & 0                                         \\\\\n",
       "\t 2                                          & hNQKTiKtHSY\\_BmxLyZb9Q                    & oOAy7INgRLumTV3vZWtVM                      & 2                                          & 127                                        & 1                                          & 1                                          & 8                                          & 5to10                                      &  7.5                                       & ⋯                                          & Yes                                        & No                                         & Yes                                        & No                                         & Yes                                        & No                                         & Yes                                        &                                            & 0                                          & 0                                         \\\\\n",
       "\\end{tabular}\n"
      ],
      "text/markdown": [
       "\n",
       "ParticipantNo | ID | PDF | Order | Time | Condition | CExperience | Tasks | NReviews | AMeanNReviews | ⋯ | AL1 | AC2 | AL2 | AC3 | AL3 | AC4 | AL4 | Comments | TotalAdded | TotalDeleted | \n",
       "|---|---|---|---|---|---|\n",
       "| 1                                          | -JjAzwjQakZk-3kIbeMfw                      | U2PXr4iMBf8Kt-leQI8Ii                      | 1                                          | 435                                        | 1                                          | 1                                          | 9                                          | 10+                                        | 12.5                                       | ⋯                                          | Yes                                        | Yes                                        | Yes                                        | Yes                                        | Yes                                        | Yes                                        | Yes                                        | C1:2added, C2:2added,C3:3added,C4:1added   | 8                                          | 0                                          | \n",
       "| 1                                          | -JjAzwjQakZk-3kIbeMfw                      | 4gIe5sni3WJJCzNglSdo8                      | 2                                          | 582                                        | 0                                          | 1                                          | 9                                          | 10+                                        | 12.5                                       | ⋯                                          | No                                         | Yes                                        | No                                         | Yes                                        | No                                         | Yes                                        | No                                         | C1:1added, C2:1added, C3:1added, C4:2added | 5                                          | 0                                          | \n",
       "| 1                                          | -JjAzwjQakZk-3kIbeMfw                      | iHbGgWtrKNfksdoj9Hxv9                      | 3                                          | 297                                        | 1                                          | 1                                          | 9                                          | 10+                                        | 12.5                                       | ⋯                                          | Yes                                        | No                                         | Yes                                        | Yes                                        | Yes                                        | Yes                                        | Yes                                        | C1:1added, C2:1added, C4:1added            | 3                                          | 0                                          | \n",
       "| 1                                          | -JjAzwjQakZk-3kIbeMfw                      | cnDXl97I_WoVUqyIH0HbQ                      | 4                                          | 610                                        | 0                                          | 1                                          | 9                                          | 10+                                        | 12.5                                       | ⋯                                          | No                                         | No                                         | No                                         | No                                         | No                                         | Yes                                        | No                                         | C1:1added, C2:0added, C3:0added            | 1                                          | 0                                          | \n",
       "| 2                                          | hNQKTiKtHSY_BmxLyZb9Q                      | XOCbiBddVQK3BYy1Ox4lI                      | 1                                          | 306                                        | 1                                          | 1                                          | 8                                          | 5to10                                      |  7.5                                       | ⋯                                          | Yes                                        | No                                         | Yes                                        | No                                         | Yes                                        | No                                         | Yes                                        | C1:1added                                  | 1                                          | 0                                          | \n",
       "| 2                                          | hNQKTiKtHSY_BmxLyZb9Q                      | oOAy7INgRLumTV3vZWtVM                      | 2                                          | 127                                        | 1                                          | 1                                          | 8                                          | 5to10                                      |  7.5                                       | ⋯                                          | Yes                                        | No                                         | Yes                                        | No                                         | Yes                                        | No                                         | Yes                                        |                                            | 0                                          | 0                                          | \n",
       "\n",
       "\n"
      ],
      "text/plain": [
       "  ParticipantNo ID                    PDF                   Order Time\n",
       "1 1             -JjAzwjQakZk-3kIbeMfw U2PXr4iMBf8Kt-leQI8Ii 1     435 \n",
       "2 1             -JjAzwjQakZk-3kIbeMfw 4gIe5sni3WJJCzNglSdo8 2     582 \n",
       "3 1             -JjAzwjQakZk-3kIbeMfw iHbGgWtrKNfksdoj9Hxv9 3     297 \n",
       "4 1             -JjAzwjQakZk-3kIbeMfw cnDXl97I_WoVUqyIH0HbQ 4     610 \n",
       "5 2             hNQKTiKtHSY_BmxLyZb9Q XOCbiBddVQK3BYy1Ox4lI 1     306 \n",
       "6 2             hNQKTiKtHSY_BmxLyZb9Q oOAy7INgRLumTV3vZWtVM 2     127 \n",
       "  Condition CExperience Tasks NReviews AMeanNReviews ⋯ AL1 AC2 AL2 AC3 AL3 AC4\n",
       "1 1         1           9     10+      12.5          ⋯ Yes Yes Yes Yes Yes Yes\n",
       "2 0         1           9     10+      12.5          ⋯ No  Yes No  Yes No  Yes\n",
       "3 1         1           9     10+      12.5          ⋯ Yes No  Yes Yes Yes Yes\n",
       "4 0         1           9     10+      12.5          ⋯ No  No  No  No  No  Yes\n",
       "5 1         1           8     5to10     7.5          ⋯ Yes No  Yes No  Yes No \n",
       "6 1         1           8     5to10     7.5          ⋯ Yes No  Yes No  Yes No \n",
       "  AL4 Comments                                   TotalAdded TotalDeleted\n",
       "1 Yes C1:2added, C2:2added,C3:3added,C4:1added   8          0           \n",
       "2 No  C1:1added, C2:1added, C3:1added, C4:2added 5          0           \n",
       "3 Yes C1:1added, C2:1added, C4:1added            3          0           \n",
       "4 No  C1:1added, C2:0added, C3:0added            1          0           \n",
       "5 Yes C1:1added                                  1          0           \n",
       "6 Yes                                            0          0           "
      ]
     },
     "metadata": {},
     "output_type": "display_data"
    }
   ],
   "source": [
    "# Quick check\n",
    "head(data)"
   ]
  },
  {
   "cell_type": "code",
   "execution_count": 13,
   "metadata": {
    "collapsed": true
   },
   "outputs": [],
   "source": [
    "# creating two groups (MLR and NML)\n",
    "Annotations <- subset(data, Condition=='1')\n",
    "NoAnnotations <- subset(data, Condition=='0')"
   ]
  },
  {
   "cell_type": "code",
   "execution_count": 14,
   "metadata": {},
   "outputs": [
    {
     "data": {
      "text/html": [
       "<table>\n",
       "<thead><tr><th></th><th scope=col>ParticipantNo</th><th scope=col>ID</th><th scope=col>PDF</th><th scope=col>Order</th><th scope=col>Time</th><th scope=col>Condition</th><th scope=col>CExperience</th><th scope=col>Tasks</th><th scope=col>NReviews</th><th scope=col>AMeanNReviews</th><th scope=col>⋯</th><th scope=col>AL1</th><th scope=col>AC2</th><th scope=col>AL2</th><th scope=col>AC3</th><th scope=col>AL3</th><th scope=col>AC4</th><th scope=col>AL4</th><th scope=col>Comments</th><th scope=col>TotalAdded</th><th scope=col>TotalDeleted</th></tr></thead>\n",
       "<tbody>\n",
       "\t<tr><th scope=row>1</th><td>1                                                        </td><td>-JjAzwjQakZk-3kIbeMfw                                    </td><td>U2PXr4iMBf8Kt-leQI8Ii                                    </td><td>1                                                        </td><td>435                                                      </td><td>1                                                        </td><td>1                                                        </td><td>9                                                        </td><td>10+                                                      </td><td>12.5                                                     </td><td>⋯                                                        </td><td>Yes                                                      </td><td>Yes                                                      </td><td>Yes                                                      </td><td>Yes                                                      </td><td>Yes                                                      </td><td>Yes                                                      </td><td>Yes                                                      </td><td>C1:2added, C2:2added,C3:3added,C4:1added                 </td><td>8                                                        </td><td>0                                                        </td></tr>\n",
       "\t<tr><th scope=row>3</th><td>1                                                        </td><td>-JjAzwjQakZk-3kIbeMfw                                    </td><td>iHbGgWtrKNfksdoj9Hxv9                                    </td><td>3                                                        </td><td>297                                                      </td><td>1                                                        </td><td>1                                                        </td><td>9                                                        </td><td>10+                                                      </td><td>12.5                                                     </td><td>⋯                                                        </td><td>Yes                                                      </td><td>No                                                       </td><td>Yes                                                      </td><td>Yes                                                      </td><td>Yes                                                      </td><td>Yes                                                      </td><td>Yes                                                      </td><td>C1:1added, C2:1added, C4:1added                          </td><td>3                                                        </td><td>0                                                        </td></tr>\n",
       "\t<tr><th scope=row>5</th><td>2                                                        </td><td>hNQKTiKtHSY_BmxLyZb9Q                                    </td><td>XOCbiBddVQK3BYy1Ox4lI                                    </td><td>1                                                        </td><td>306                                                      </td><td>1                                                        </td><td>1                                                        </td><td>8                                                        </td><td>5to10                                                    </td><td> 7.5                                                     </td><td>⋯                                                        </td><td>Yes                                                      </td><td>No                                                       </td><td>Yes                                                      </td><td>No                                                       </td><td>Yes                                                      </td><td>No                                                       </td><td>Yes                                                      </td><td>C1:1added                                                </td><td>1                                                        </td><td>0                                                        </td></tr>\n",
       "\t<tr><th scope=row>6</th><td>2                                                        </td><td>hNQKTiKtHSY_BmxLyZb9Q                                    </td><td>oOAy7INgRLumTV3vZWtVM                                    </td><td>2                                                        </td><td>127                                                      </td><td>1                                                        </td><td>1                                                        </td><td>8                                                        </td><td>5to10                                                    </td><td> 7.5                                                     </td><td>⋯                                                        </td><td>Yes                                                      </td><td>No                                                       </td><td>Yes                                                      </td><td>No                                                       </td><td>Yes                                                      </td><td>No                                                       </td><td>Yes                                                      </td><td>                                                         </td><td>0                                                        </td><td>0                                                        </td></tr>\n",
       "\t<tr><th scope=row>10</th><td>3                                                        </td><td>pyTvUi2W85Nb9handPSvZ                                    </td><td>gD_JugCFB6D5iV-JIOI0p                                    </td><td>2                                                        </td><td>209                                                      </td><td>1                                                        </td><td>1                                                        </td><td>9                                                        </td><td>5to10                                                    </td><td> 7.5                                                     </td><td>⋯                                                        </td><td>Yes                                                      </td><td>No                                                       </td><td>Yes                                                      </td><td>No                                                       </td><td>Yes                                                      </td><td>No                                                       </td><td>Yes                                                      </td><td>                                                         </td><td>0                                                        </td><td>0                                                        </td></tr>\n",
       "\t<tr><th scope=row>12</th><td>3                                                        </td><td>pyTvUi2W85Nb9handPSvZ                                    </td><td>4gIe5sni3WJJCzNglSdo8                                    </td><td>4                                                        </td><td>756                                                      </td><td>1                                                        </td><td>1                                                        </td><td>9                                                        </td><td>5to10                                                    </td><td> 7.5                                                     </td><td>⋯                                                        </td><td>Yes                                                      </td><td>Yes                                                      </td><td>Yes                                                      </td><td>Yes                                                      </td><td>Yes                                                      </td><td>Yes                                                      </td><td>Yes                                                      </td><td>C1:1added all left;C2:1added all left,C3:1added,C4:1added</td><td>4                                                        </td><td>0                                                        </td></tr>\n",
       "</tbody>\n",
       "</table>\n"
      ],
      "text/latex": [
       "\\begin{tabular}{r|lllllllllllllllllllllllllllllll}\n",
       "  & ParticipantNo & ID & PDF & Order & Time & Condition & CExperience & Tasks & NReviews & AMeanNReviews & ⋯ & AL1 & AC2 & AL2 & AC3 & AL3 & AC4 & AL4 & Comments & TotalAdded & TotalDeleted\\\\\n",
       "\\hline\n",
       "\t1 & 1                                                         & -JjAzwjQakZk-3kIbeMfw                                     & U2PXr4iMBf8Kt-leQI8Ii                                     & 1                                                         & 435                                                       & 1                                                         & 1                                                         & 9                                                         & 10+                                                       & 12.5                                                      & ⋯                                                         & Yes                                                       & Yes                                                       & Yes                                                       & Yes                                                       & Yes                                                       & Yes                                                       & Yes                                                       & C1:2added, C2:2added,C3:3added,C4:1added                  & 8                                                         & 0                                                        \\\\\n",
       "\t3 & 1                                                         & -JjAzwjQakZk-3kIbeMfw                                     & iHbGgWtrKNfksdoj9Hxv9                                     & 3                                                         & 297                                                       & 1                                                         & 1                                                         & 9                                                         & 10+                                                       & 12.5                                                      & ⋯                                                         & Yes                                                       & No                                                        & Yes                                                       & Yes                                                       & Yes                                                       & Yes                                                       & Yes                                                       & C1:1added, C2:1added, C4:1added                           & 3                                                         & 0                                                        \\\\\n",
       "\t5 & 2                                                         & hNQKTiKtHSY\\_BmxLyZb9Q                                   & XOCbiBddVQK3BYy1Ox4lI                                     & 1                                                         & 306                                                       & 1                                                         & 1                                                         & 8                                                         & 5to10                                                     &  7.5                                                      & ⋯                                                         & Yes                                                       & No                                                        & Yes                                                       & No                                                        & Yes                                                       & No                                                        & Yes                                                       & C1:1added                                                 & 1                                                         & 0                                                        \\\\\n",
       "\t6 & 2                                                         & hNQKTiKtHSY\\_BmxLyZb9Q                                   & oOAy7INgRLumTV3vZWtVM                                     & 2                                                         & 127                                                       & 1                                                         & 1                                                         & 8                                                         & 5to10                                                     &  7.5                                                      & ⋯                                                         & Yes                                                       & No                                                        & Yes                                                       & No                                                        & Yes                                                       & No                                                        & Yes                                                       &                                                           & 0                                                         & 0                                                        \\\\\n",
       "\t10 & 3                                                         & pyTvUi2W85Nb9handPSvZ                                     & gD\\_JugCFB6D5iV-JIOI0p                                   & 2                                                         & 209                                                       & 1                                                         & 1                                                         & 9                                                         & 5to10                                                     &  7.5                                                      & ⋯                                                         & Yes                                                       & No                                                        & Yes                                                       & No                                                        & Yes                                                       & No                                                        & Yes                                                       &                                                           & 0                                                         & 0                                                        \\\\\n",
       "\t12 & 3                                                         & pyTvUi2W85Nb9handPSvZ                                     & 4gIe5sni3WJJCzNglSdo8                                     & 4                                                         & 756                                                       & 1                                                         & 1                                                         & 9                                                         & 5to10                                                     &  7.5                                                      & ⋯                                                         & Yes                                                       & Yes                                                       & Yes                                                       & Yes                                                       & Yes                                                       & Yes                                                       & Yes                                                       & C1:1added all left;C2:1added all left,C3:1added,C4:1added & 4                                                         & 0                                                        \\\\\n",
       "\\end{tabular}\n"
      ],
      "text/markdown": [
       "\n",
       "| <!--/--> | ParticipantNo | ID | PDF | Order | Time | Condition | CExperience | Tasks | NReviews | AMeanNReviews | ⋯ | AL1 | AC2 | AL2 | AC3 | AL3 | AC4 | AL4 | Comments | TotalAdded | TotalDeleted | \n",
       "|---|---|---|---|---|---|\n",
       "| 1 | 1                                                         | -JjAzwjQakZk-3kIbeMfw                                     | U2PXr4iMBf8Kt-leQI8Ii                                     | 1                                                         | 435                                                       | 1                                                         | 1                                                         | 9                                                         | 10+                                                       | 12.5                                                      | ⋯                                                         | Yes                                                       | Yes                                                       | Yes                                                       | Yes                                                       | Yes                                                       | Yes                                                       | Yes                                                       | C1:2added, C2:2added,C3:3added,C4:1added                  | 8                                                         | 0                                                         | \n",
       "| 3 | 1                                                         | -JjAzwjQakZk-3kIbeMfw                                     | iHbGgWtrKNfksdoj9Hxv9                                     | 3                                                         | 297                                                       | 1                                                         | 1                                                         | 9                                                         | 10+                                                       | 12.5                                                      | ⋯                                                         | Yes                                                       | No                                                        | Yes                                                       | Yes                                                       | Yes                                                       | Yes                                                       | Yes                                                       | C1:1added, C2:1added, C4:1added                           | 3                                                         | 0                                                         | \n",
       "| 5 | 2                                                         | hNQKTiKtHSY_BmxLyZb9Q                                     | XOCbiBddVQK3BYy1Ox4lI                                     | 1                                                         | 306                                                       | 1                                                         | 1                                                         | 8                                                         | 5to10                                                     |  7.5                                                      | ⋯                                                         | Yes                                                       | No                                                        | Yes                                                       | No                                                        | Yes                                                       | No                                                        | Yes                                                       | C1:1added                                                 | 1                                                         | 0                                                         | \n",
       "| 6 | 2                                                         | hNQKTiKtHSY_BmxLyZb9Q                                     | oOAy7INgRLumTV3vZWtVM                                     | 2                                                         | 127                                                       | 1                                                         | 1                                                         | 8                                                         | 5to10                                                     |  7.5                                                      | ⋯                                                         | Yes                                                       | No                                                        | Yes                                                       | No                                                        | Yes                                                       | No                                                        | Yes                                                       |                                                           | 0                                                         | 0                                                         | \n",
       "| 10 | 3                                                         | pyTvUi2W85Nb9handPSvZ                                     | gD_JugCFB6D5iV-JIOI0p                                     | 2                                                         | 209                                                       | 1                                                         | 1                                                         | 9                                                         | 5to10                                                     |  7.5                                                      | ⋯                                                         | Yes                                                       | No                                                        | Yes                                                       | No                                                        | Yes                                                       | No                                                        | Yes                                                       |                                                           | 0                                                         | 0                                                         | \n",
       "| 12 | 3                                                         | pyTvUi2W85Nb9handPSvZ                                     | 4gIe5sni3WJJCzNglSdo8                                     | 4                                                         | 756                                                       | 1                                                         | 1                                                         | 9                                                         | 5to10                                                     |  7.5                                                      | ⋯                                                         | Yes                                                       | Yes                                                       | Yes                                                       | Yes                                                       | Yes                                                       | Yes                                                       | Yes                                                       | C1:1added all left;C2:1added all left,C3:1added,C4:1added | 4                                                         | 0                                                         | \n",
       "\n",
       "\n"
      ],
      "text/plain": [
       "   ParticipantNo ID                    PDF                   Order Time\n",
       "1  1             -JjAzwjQakZk-3kIbeMfw U2PXr4iMBf8Kt-leQI8Ii 1     435 \n",
       "3  1             -JjAzwjQakZk-3kIbeMfw iHbGgWtrKNfksdoj9Hxv9 3     297 \n",
       "5  2             hNQKTiKtHSY_BmxLyZb9Q XOCbiBddVQK3BYy1Ox4lI 1     306 \n",
       "6  2             hNQKTiKtHSY_BmxLyZb9Q oOAy7INgRLumTV3vZWtVM 2     127 \n",
       "10 3             pyTvUi2W85Nb9handPSvZ gD_JugCFB6D5iV-JIOI0p 2     209 \n",
       "12 3             pyTvUi2W85Nb9handPSvZ 4gIe5sni3WJJCzNglSdo8 4     756 \n",
       "   Condition CExperience Tasks NReviews AMeanNReviews ⋯ AL1 AC2 AL2 AC3 AL3 AC4\n",
       "1  1         1           9     10+      12.5          ⋯ Yes Yes Yes Yes Yes Yes\n",
       "3  1         1           9     10+      12.5          ⋯ Yes No  Yes Yes Yes Yes\n",
       "5  1         1           8     5to10     7.5          ⋯ Yes No  Yes No  Yes No \n",
       "6  1         1           8     5to10     7.5          ⋯ Yes No  Yes No  Yes No \n",
       "10 1         1           9     5to10     7.5          ⋯ Yes No  Yes No  Yes No \n",
       "12 1         1           9     5to10     7.5          ⋯ Yes Yes Yes Yes Yes Yes\n",
       "   AL4 Comments                                                  TotalAdded\n",
       "1  Yes C1:2added, C2:2added,C3:3added,C4:1added                  8         \n",
       "3  Yes C1:1added, C2:1added, C4:1added                           3         \n",
       "5  Yes C1:1added                                                 1         \n",
       "6  Yes                                                           0         \n",
       "10 Yes                                                           0         \n",
       "12 Yes C1:1added all left;C2:1added all left,C3:1added,C4:1added 4         \n",
       "   TotalDeleted\n",
       "1  0           \n",
       "3  0           \n",
       "5  0           \n",
       "6  0           \n",
       "10 0           \n",
       "12 0           "
      ]
     },
     "metadata": {},
     "output_type": "display_data"
    },
    {
     "data": {
      "text/html": [
       "<table>\n",
       "<thead><tr><th></th><th scope=col>ParticipantNo</th><th scope=col>ID</th><th scope=col>PDF</th><th scope=col>Order</th><th scope=col>Time</th><th scope=col>Condition</th><th scope=col>CExperience</th><th scope=col>Tasks</th><th scope=col>NReviews</th><th scope=col>AMeanNReviews</th><th scope=col>⋯</th><th scope=col>AL1</th><th scope=col>AC2</th><th scope=col>AL2</th><th scope=col>AC3</th><th scope=col>AL3</th><th scope=col>AC4</th><th scope=col>AL4</th><th scope=col>Comments</th><th scope=col>TotalAdded</th><th scope=col>TotalDeleted</th></tr></thead>\n",
       "<tbody>\n",
       "\t<tr><th scope=row>2</th><td>1                                         </td><td>-JjAzwjQakZk-3kIbeMfw                     </td><td>4gIe5sni3WJJCzNglSdo8                     </td><td>2                                         </td><td>582                                       </td><td>0                                         </td><td>1                                         </td><td>9                                         </td><td>10+                                       </td><td>12.5                                      </td><td>⋯                                         </td><td>No                                        </td><td>Yes                                       </td><td>No                                        </td><td>Yes                                       </td><td>No                                        </td><td>Yes                                       </td><td>No                                        </td><td>C1:1added, C2:1added, C3:1added, C4:2added</td><td>5                                         </td><td>0                                         </td></tr>\n",
       "\t<tr><th scope=row>4</th><td>1                                         </td><td>-JjAzwjQakZk-3kIbeMfw                     </td><td>cnDXl97I_WoVUqyIH0HbQ                     </td><td>4                                         </td><td>610                                       </td><td>0                                         </td><td>1                                         </td><td>9                                         </td><td>10+                                       </td><td>12.5                                      </td><td>⋯                                         </td><td>No                                        </td><td>No                                        </td><td>No                                        </td><td>No                                        </td><td>No                                        </td><td>Yes                                       </td><td>No                                        </td><td>C1:1added, C2:0added, C3:0added           </td><td>1                                         </td><td>0                                         </td></tr>\n",
       "\t<tr><th scope=row>7</th><td>2                                         </td><td>hNQKTiKtHSY_BmxLyZb9Q                     </td><td>XsI2WyPfvOm6Wxr7iwopU                     </td><td>3                                         </td><td>777                                       </td><td>0                                         </td><td>1                                         </td><td>8                                         </td><td>5to10                                     </td><td> 7.5                                      </td><td>⋯                                         </td><td>No                                        </td><td>Yes                                       </td><td>No                                        </td><td>Yes                                       </td><td>Yes                                       </td><td>Yes                                       </td><td>No                                        </td><td>C1:2added, C2:1added, C3:1added, C4:1added</td><td>5                                         </td><td>0                                         </td></tr>\n",
       "\t<tr><th scope=row>8</th><td>2                                         </td><td>hNQKTiKtHSY_BmxLyZb9Q                     </td><td>SxykkqJYiPn7MoawJ_SNP                     </td><td>4                                         </td><td>756                                       </td><td>0                                         </td><td>1                                         </td><td>8                                         </td><td>5to10                                     </td><td> 7.5                                      </td><td>⋯                                         </td><td>No                                        </td><td>No                                        </td><td>No                                        </td><td>Yes                                       </td><td>No                                        </td><td>Yes                                       </td><td>No                                        </td><td>C1:3added, C2:0added, C3:1added, C4:1added</td><td>5                                         </td><td>0                                         </td></tr>\n",
       "\t<tr><th scope=row>9</th><td>3                                         </td><td>pyTvUi2W85Nb9handPSvZ                     </td><td>lJGa9WH4DouLz_639nPQe                     </td><td>1                                         </td><td>163                                       </td><td>0                                         </td><td>1                                         </td><td>9                                         </td><td>5to10                                     </td><td> 7.5                                      </td><td>⋯                                         </td><td>No                                        </td><td>No                                        </td><td>No                                        </td><td>No                                        </td><td>No                                        </td><td>No                                        </td><td>No                                        </td><td>C1:1added, C2:0added, C3:0added, C4:0added</td><td>1                                         </td><td>0                                         </td></tr>\n",
       "\t<tr><th scope=row>11</th><td>3                                         </td><td>pyTvUi2W85Nb9handPSvZ                     </td><td>VVQyIpJ1qfB9MpYL7evbv                     </td><td>3                                         </td><td>713                                       </td><td>0                                         </td><td>1                                         </td><td>9                                         </td><td>5to10                                     </td><td> 7.5                                      </td><td>⋯                                         </td><td>No                                        </td><td>Yes                                       </td><td>No                                        </td><td>Yes                                       </td><td>No                                        </td><td>Yes                                       </td><td>No                                        </td><td>C1:1added, C2:0added, C3:0added, C4:1added</td><td>2                                         </td><td>0                                         </td></tr>\n",
       "</tbody>\n",
       "</table>\n"
      ],
      "text/latex": [
       "\\begin{tabular}{r|lllllllllllllllllllllllllllllll}\n",
       "  & ParticipantNo & ID & PDF & Order & Time & Condition & CExperience & Tasks & NReviews & AMeanNReviews & ⋯ & AL1 & AC2 & AL2 & AC3 & AL3 & AC4 & AL4 & Comments & TotalAdded & TotalDeleted\\\\\n",
       "\\hline\n",
       "\t2 & 1                                          & -JjAzwjQakZk-3kIbeMfw                      & 4gIe5sni3WJJCzNglSdo8                      & 2                                          & 582                                        & 0                                          & 1                                          & 9                                          & 10+                                        & 12.5                                       & ⋯                                          & No                                         & Yes                                        & No                                         & Yes                                        & No                                         & Yes                                        & No                                         & C1:1added, C2:1added, C3:1added, C4:2added & 5                                          & 0                                         \\\\\n",
       "\t4 & 1                                          & -JjAzwjQakZk-3kIbeMfw                      & cnDXl97I\\_WoVUqyIH0HbQ                    & 4                                          & 610                                        & 0                                          & 1                                          & 9                                          & 10+                                        & 12.5                                       & ⋯                                          & No                                         & No                                         & No                                         & No                                         & No                                         & Yes                                        & No                                         & C1:1added, C2:0added, C3:0added            & 1                                          & 0                                         \\\\\n",
       "\t7 & 2                                          & hNQKTiKtHSY\\_BmxLyZb9Q                    & XsI2WyPfvOm6Wxr7iwopU                      & 3                                          & 777                                        & 0                                          & 1                                          & 8                                          & 5to10                                      &  7.5                                       & ⋯                                          & No                                         & Yes                                        & No                                         & Yes                                        & Yes                                        & Yes                                        & No                                         & C1:2added, C2:1added, C3:1added, C4:1added & 5                                          & 0                                         \\\\\n",
       "\t8 & 2                                          & hNQKTiKtHSY\\_BmxLyZb9Q                    & SxykkqJYiPn7MoawJ\\_SNP                    & 4                                          & 756                                        & 0                                          & 1                                          & 8                                          & 5to10                                      &  7.5                                       & ⋯                                          & No                                         & No                                         & No                                         & Yes                                        & No                                         & Yes                                        & No                                         & C1:3added, C2:0added, C3:1added, C4:1added & 5                                          & 0                                         \\\\\n",
       "\t9 & 3                                          & pyTvUi2W85Nb9handPSvZ                      & lJGa9WH4DouLz\\_639nPQe                    & 1                                          & 163                                        & 0                                          & 1                                          & 9                                          & 5to10                                      &  7.5                                       & ⋯                                          & No                                         & No                                         & No                                         & No                                         & No                                         & No                                         & No                                         & C1:1added, C2:0added, C3:0added, C4:0added & 1                                          & 0                                         \\\\\n",
       "\t11 & 3                                          & pyTvUi2W85Nb9handPSvZ                      & VVQyIpJ1qfB9MpYL7evbv                      & 3                                          & 713                                        & 0                                          & 1                                          & 9                                          & 5to10                                      &  7.5                                       & ⋯                                          & No                                         & Yes                                        & No                                         & Yes                                        & No                                         & Yes                                        & No                                         & C1:1added, C2:0added, C3:0added, C4:1added & 2                                          & 0                                         \\\\\n",
       "\\end{tabular}\n"
      ],
      "text/markdown": [
       "\n",
       "| <!--/--> | ParticipantNo | ID | PDF | Order | Time | Condition | CExperience | Tasks | NReviews | AMeanNReviews | ⋯ | AL1 | AC2 | AL2 | AC3 | AL3 | AC4 | AL4 | Comments | TotalAdded | TotalDeleted | \n",
       "|---|---|---|---|---|---|\n",
       "| 2 | 1                                          | -JjAzwjQakZk-3kIbeMfw                      | 4gIe5sni3WJJCzNglSdo8                      | 2                                          | 582                                        | 0                                          | 1                                          | 9                                          | 10+                                        | 12.5                                       | ⋯                                          | No                                         | Yes                                        | No                                         | Yes                                        | No                                         | Yes                                        | No                                         | C1:1added, C2:1added, C3:1added, C4:2added | 5                                          | 0                                          | \n",
       "| 4 | 1                                          | -JjAzwjQakZk-3kIbeMfw                      | cnDXl97I_WoVUqyIH0HbQ                      | 4                                          | 610                                        | 0                                          | 1                                          | 9                                          | 10+                                        | 12.5                                       | ⋯                                          | No                                         | No                                         | No                                         | No                                         | No                                         | Yes                                        | No                                         | C1:1added, C2:0added, C3:0added            | 1                                          | 0                                          | \n",
       "| 7 | 2                                          | hNQKTiKtHSY_BmxLyZb9Q                      | XsI2WyPfvOm6Wxr7iwopU                      | 3                                          | 777                                        | 0                                          | 1                                          | 8                                          | 5to10                                      |  7.5                                       | ⋯                                          | No                                         | Yes                                        | No                                         | Yes                                        | Yes                                        | Yes                                        | No                                         | C1:2added, C2:1added, C3:1added, C4:1added | 5                                          | 0                                          | \n",
       "| 8 | 2                                          | hNQKTiKtHSY_BmxLyZb9Q                      | SxykkqJYiPn7MoawJ_SNP                      | 4                                          | 756                                        | 0                                          | 1                                          | 8                                          | 5to10                                      |  7.5                                       | ⋯                                          | No                                         | No                                         | No                                         | Yes                                        | No                                         | Yes                                        | No                                         | C1:3added, C2:0added, C3:1added, C4:1added | 5                                          | 0                                          | \n",
       "| 9 | 3                                          | pyTvUi2W85Nb9handPSvZ                      | lJGa9WH4DouLz_639nPQe                      | 1                                          | 163                                        | 0                                          | 1                                          | 9                                          | 5to10                                      |  7.5                                       | ⋯                                          | No                                         | No                                         | No                                         | No                                         | No                                         | No                                         | No                                         | C1:1added, C2:0added, C3:0added, C4:0added | 1                                          | 0                                          | \n",
       "| 11 | 3                                          | pyTvUi2W85Nb9handPSvZ                      | VVQyIpJ1qfB9MpYL7evbv                      | 3                                          | 713                                        | 0                                          | 1                                          | 9                                          | 5to10                                      |  7.5                                       | ⋯                                          | No                                         | Yes                                        | No                                         | Yes                                        | No                                         | Yes                                        | No                                         | C1:1added, C2:0added, C3:0added, C4:1added | 2                                          | 0                                          | \n",
       "\n",
       "\n"
      ],
      "text/plain": [
       "   ParticipantNo ID                    PDF                   Order Time\n",
       "2  1             -JjAzwjQakZk-3kIbeMfw 4gIe5sni3WJJCzNglSdo8 2     582 \n",
       "4  1             -JjAzwjQakZk-3kIbeMfw cnDXl97I_WoVUqyIH0HbQ 4     610 \n",
       "7  2             hNQKTiKtHSY_BmxLyZb9Q XsI2WyPfvOm6Wxr7iwopU 3     777 \n",
       "8  2             hNQKTiKtHSY_BmxLyZb9Q SxykkqJYiPn7MoawJ_SNP 4     756 \n",
       "9  3             pyTvUi2W85Nb9handPSvZ lJGa9WH4DouLz_639nPQe 1     163 \n",
       "11 3             pyTvUi2W85Nb9handPSvZ VVQyIpJ1qfB9MpYL7evbv 3     713 \n",
       "   Condition CExperience Tasks NReviews AMeanNReviews ⋯ AL1 AC2 AL2 AC3 AL3 AC4\n",
       "2  0         1           9     10+      12.5          ⋯ No  Yes No  Yes No  Yes\n",
       "4  0         1           9     10+      12.5          ⋯ No  No  No  No  No  Yes\n",
       "7  0         1           8     5to10     7.5          ⋯ No  Yes No  Yes Yes Yes\n",
       "8  0         1           8     5to10     7.5          ⋯ No  No  No  Yes No  Yes\n",
       "9  0         1           9     5to10     7.5          ⋯ No  No  No  No  No  No \n",
       "11 0         1           9     5to10     7.5          ⋯ No  Yes No  Yes No  Yes\n",
       "   AL4 Comments                                   TotalAdded TotalDeleted\n",
       "2  No  C1:1added, C2:1added, C3:1added, C4:2added 5          0           \n",
       "4  No  C1:1added, C2:0added, C3:0added            1          0           \n",
       "7  No  C1:2added, C2:1added, C3:1added, C4:1added 5          0           \n",
       "8  No  C1:3added, C2:0added, C3:1added, C4:1added 5          0           \n",
       "9  No  C1:1added, C2:0added, C3:0added, C4:0added 1          0           \n",
       "11 No  C1:1added, C2:0added, C3:0added, C4:1added 2          0           "
      ]
     },
     "metadata": {},
     "output_type": "display_data"
    }
   ],
   "source": [
    "# Again quick check on both\n",
    "head(Annotations)\n",
    "head(NoAnnotations)"
   ]
  },
  {
   "cell_type": "code",
   "execution_count": 22,
   "metadata": {},
   "outputs": [
    {
     "name": "stdout",
     "output_type": "stream",
     "text": [
      "____________TOTAL DATA:______________________ \n",
      "Total Annotations added: 486 \n",
      "Mean Total Annotations added: 2.963415 \n",
      "SD Total Annotations added: 3.033333 \n",
      "_____________________________________________ \n",
      "Total Annotations deleted: 127 \n",
      "Mean Total Annotations deleted: 0.7743902 \n",
      "SD Total Annotations deleted: 1.957607 \n",
      "\n",
      "____________MACHINE LEARNING:________________ \n",
      "Total Annotations added: 103 \n",
      "Mean Total Annotations added: 1.256098 \n",
      "SD Total Annotations added: 1.755492 \n",
      "_____________________________________________ \n",
      "Total Annotations deleted: 127 \n",
      "Mean Total Annotations deleted: 1.54878 \n",
      "SD Total Annotations deleted: 2.549037 \n",
      "\n",
      "____________NON-MACHINE LEARNING: ___________ \n",
      "Total Annotations added: 383 \n",
      "Mean Total Annotations added: 4.670732 \n",
      "SD Total Annotations added: 3.087429 \n",
      "_____________________________________________ \n",
      "Total Annotations deleted: 0 \n",
      "Mean Total Annotations deleted: 0 \n",
      "SD Total Annotations deleted: 0 \n"
     ]
    }
   ],
   "source": [
    "# Some descriptitves\n",
    "# TOTAL first (Annotations & NonAnnotations together)\n",
    "cat('____________TOTAL DATA:______________________', '\\n')\n",
    "cat(\"Total Annotations added:\", sum(data$TotalAdded), '\\n')\n",
    "cat(\"Mean Total Annotations added:\", mean(data$TotalAdded), '\\n')\n",
    "cat(\"SD Total Annotations added:\", sd(data$TotalAdded), '\\n')\n",
    "cat('_____________________________________________', '\\n')\n",
    "\n",
    "cat(\"Total Annotations deleted:\", sum(data$TotalDeleted), '\\n')\n",
    "cat(\"Mean Total Annotations deleted:\", mean(data$TotalDeleted), '\\n')\n",
    "cat(\"SD Total Annotations deleted:\", sd(data$TotalDeleted), '\\n')\n",
    "cat('\\n')\n",
    "\n",
    "\n",
    "cat('____________MACHINE LEARNING:________________', '\\n')\n",
    "\n",
    "# Now only for Machine-Learning Condition\n",
    "cat(\"Total Annotations added:\", sum(Annotations$TotalAdded), '\\n')\n",
    "cat(\"Mean Total Annotations added:\", mean(Annotations$TotalAdded), '\\n')\n",
    "cat(\"SD Total Annotations added:\", sd(Annotations$TotalAdded), '\\n')\n",
    "cat('_____________________________________________', '\\n')\n",
    "\n",
    "cat(\"Total Annotations deleted:\", sum(Annotations$TotalDeleted), '\\n')\n",
    "cat(\"Mean Total Annotations deleted:\", mean(Annotations$TotalDeleted), '\\n')\n",
    "cat(\"SD Total Annotations deleted:\", sd(Annotations$TotalDeleted), '\\n')\n",
    "cat('\\n')\n",
    "\n",
    "cat('____________NON-MACHINE LEARNING: ___________', '\\n')\n",
    "\n",
    "# And for the Non-Machine-Learning Condition\n",
    "cat(\"Total Annotations added:\", sum(NoAnnotations$TotalAdded), '\\n')\n",
    "cat(\"Mean Total Annotations added:\", mean(NoAnnotations$TotalAdded), '\\n')\n",
    "cat(\"SD Total Annotations added:\", sd(NoAnnotations$TotalAdded), '\\n')\n",
    "cat('_____________________________________________', '\\n')\n",
    "\n",
    "cat(\"Total Annotations deleted:\", sum(NoAnnotations$TotalDeleted), '\\n')\n",
    "cat(\"Mean Total Annotations deleted:\", mean(NoAnnotations$TotalDeleted), '\\n')\n",
    "cat(\"SD Total Annotations deleted:\", sd(NoAnnotations$TotalDeleted), '\\n')\n"
   ]
  },
  {
   "cell_type": "code",
   "execution_count": 10,
   "metadata": {
    "collapsed": true
   },
   "outputs": [],
   "source": [
    "# just to check\n",
    "write.csv(NoAnnotations, \"del_data.csv\")"
   ]
  },
  {
   "cell_type": "code",
   "execution_count": null,
   "metadata": {
    "collapsed": true
   },
   "outputs": [],
   "source": []
  }
 ],
 "metadata": {
  "kernelspec": {
   "display_name": "R",
   "language": "R",
   "name": "ir"
  },
  "language_info": {
   "codemirror_mode": "r",
   "file_extension": ".r",
   "mimetype": "text/x-r-source",
   "name": "R",
   "pygments_lexer": "r",
   "version": "3.4.0"
  }
 },
 "nbformat": 4,
 "nbformat_minor": 2
}
